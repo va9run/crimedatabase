{
 "cells": [
  {
   "cell_type": "code",
   "execution_count": 1,
   "metadata": {},
   "outputs": [],
   "source": [
    "# Import libraries and modules\n",
    "import pymssql\n",
    "import pandas as pd\n",
    "import numpy as np\n",
    "from pwd import user_name, passwrd"
   ]
  },
  {
   "cell_type": "code",
   "execution_count": 2,
   "metadata": {},
   "outputs": [],
   "source": [
    "# Get all the credientials here\n",
    "\n",
    "server = 'localhost'\n",
    "database = 'master'\n",
    "username = user_name \n",
    "password = passwrd"
   ]
  },
  {
   "cell_type": "code",
   "execution_count": 3,
   "metadata": {},
   "outputs": [
    {
     "name": "stdout",
     "output_type": "stream",
     "text": [
      "connection successful\n"
     ]
    }
   ],
   "source": [
    "# Check if the connection is successful or not\n",
    "try:\n",
    "    conn = pymssql.connect(server=server,  user=username, password=password, database=database,autocommit=True)\n",
    "    print(\"connection successful\")\n",
    "except Exception as e:\n",
    "    print(f\"Error : {e}\")"
   ]
  },
  {
   "cell_type": "code",
   "execution_count": 8,
   "metadata": {},
   "outputs": [
    {
     "name": "stderr",
     "output_type": "stream",
     "text": [
      "C:\\Users\\Varun\\AppData\\Local\\Temp\\ipykernel_25268\\483869354.py:1: UserWarning: pandas only supports SQLAlchemy connectable (engine/connection) or database string URI or sqlite3 DBAPI2 connection. Other DBAPI2 objects are not tested. Please consider using SQLAlchemy.\n",
      "  crime_aggregate_data = pd.read_sql(\"SELECT * FROM crimeAggregate\",con=conn)\n"
     ]
    }
   ],
   "source": [
    "crime_aggregate_data = pd.read_sql(\"SELECT * FROM crimeAggregate\",con=conn)"
   ]
  },
  {
   "cell_type": "code",
   "execution_count": 11,
   "metadata": {},
   "outputs": [
    {
     "name": "stderr",
     "output_type": "stream",
     "text": [
      "C:\\Users\\Varun\\AppData\\Local\\Temp\\ipykernel_25268\\2043532843.py:1: UserWarning: pandas only supports SQLAlchemy connectable (engine/connection) or database string URI or sqlite3 DBAPI2 connection. Other DBAPI2 objects are not tested. Please consider using SQLAlchemy.\n",
      "  area_code_desc = pd.read_sql(\"SELECT * FROM crimedatabase.dbo.areaCodeDesc\",con=conn)\n",
      "C:\\Users\\Varun\\AppData\\Local\\Temp\\ipykernel_25268\\2043532843.py:2: UserWarning: pandas only supports SQLAlchemy connectable (engine/connection) or database string URI or sqlite3 DBAPI2 connection. Other DBAPI2 objects are not tested. Please consider using SQLAlchemy.\n",
      "  crime_code_desc = pd.read_sql(\"SELECT * FROM crimedatabase.dbo.crimeCodeDesc\",con = conn)\n"
     ]
    }
   ],
   "source": [
    "area_code_desc = pd.read_sql(\"SELECT * FROM crimedatabase.dbo.areaCodeDesc\",con=conn)\n",
    "crime_code_desc = pd.read_sql(\"SELECT * FROM crimedatabase.dbo.crimeCodeDesc\",con = conn)"
   ]
  },
  {
   "cell_type": "code",
   "execution_count": 12,
   "metadata": {},
   "outputs": [],
   "source": [
    "crime_aggregate_data.to_csv('D:/tableau/crimeAggregatedData.csv',index=False)\n",
    "area_code_desc.to_csv('D:/tableau/areaCodeDesc.csv',index=False)\n",
    "crime_code_desc.to_csv('D:/tableau/crimeCodeDesc.csv',index=False)"
   ]
  },
  {
   "cell_type": "code",
   "execution_count": null,
   "metadata": {},
   "outputs": [],
   "source": []
  }
 ],
 "metadata": {
  "kernelspec": {
   "display_name": ".venv",
   "language": "python",
   "name": "python3"
  },
  "language_info": {
   "codemirror_mode": {
    "name": "ipython",
    "version": 3
   },
   "file_extension": ".py",
   "mimetype": "text/x-python",
   "name": "python",
   "nbconvert_exporter": "python",
   "pygments_lexer": "ipython3",
   "version": "3.11.9"
  }
 },
 "nbformat": 4,
 "nbformat_minor": 2
}
